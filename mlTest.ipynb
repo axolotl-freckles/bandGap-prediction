{
 "cells": [
  {
   "cell_type": "code",
   "execution_count": 1,
   "metadata": {},
   "outputs": [],
   "source": [
    "import numpy             as np\n",
    "import pandas            as pd\n",
    "import seaborn           as sns\n",
    "import matplotlib.pyplot as plt\n",
    "\n",
    "import torch\n",
    "import torch.nn            as nn\n",
    "import torch.nn.functional as F\n",
    "\n",
    "import sklearn\n",
    "\n",
    "from torch.utils.data import DataLoader, TensorDataset\n",
    "from sklearn.metrics  import accuracy_score\n",
    "\n",
    "import libs.mol_process as molp"
   ]
  },
  {
   "cell_type": "code",
   "execution_count": 2,
   "metadata": {},
   "outputs": [
    {
     "name": "stdout",
     "output_type": "stream",
     "text": [
      "Usando dispositivo: cuda\n"
     ]
    }
   ],
   "source": [
    "device = torch.device('cuda' if torch.cuda.is_available() else 'cpu')\n",
    "print(f'Usando dispositivo: {device}')\n",
    "\n",
    "# coordinate range [-3.368006, 19.782751] (23.150757000000002)\n",
    "MIN_COOR = -3.368006\n",
    "MAX_COOR = 19.782751\n",
    "RANGE    = MAX_COOR - MIN_COOR\n",
    "\n",
    "MIN_DIFF     = 0.04481336368763274\n",
    "AVERAGE_DIFF = 0.8968847383141587\n",
    "\n",
    "used_bins     = 30\n",
    "used_range    = RANGE + (RANGE/100)\n",
    "used_min_coor = MIN_COOR\n",
    "\n",
    "FLATTENED_SIZE = 27\n",
    "\n",
    "elements = {\n",
    "\t'H' : 1,\n",
    "\t'C' : 6, 'N' : 7, 'O' : 8, 'F' : 9,\n",
    "\t'Si':14, 'P' :15, 'S' :16, 'Cl':17,\n",
    "\t'Ca':20, \n",
    "\t'Mo':44\n",
    "}"
   ]
  },
  {
   "cell_type": "code",
   "execution_count": 3,
   "metadata": {},
   "outputs": [
    {
     "name": "stdout",
     "output_type": "stream",
     "text": [
      "torch.Size([10])\n"
     ]
    }
   ],
   "source": [
    "dataset = molp.MolDataset(\n",
    "\t'./datasets/test_systems',\n",
    "\telement_dict =elements,\n",
    "\t_range       =used_range,\n",
    "\tn_bins       =used_bins,\n",
    "\tnormalize_val=44,\n",
    "\tdevice       =device\n",
    ")\n",
    "dataloader = DataLoader(dataset, batch_size=64, shuffle=True)\n",
    "\n",
    "X, y = next(iter(dataloader))\n",
    "print(y.shape)\n",
    "\n",
    "# X = molp.MolDataLoader(\n",
    "# \t'./datasets/test_systems/*.xyz',\n",
    "# \telement_dict =elements,\n",
    "# \tshuffle      =True,\n",
    "# \toffset       =used_min_coor,\n",
    "# \t_range       =used_range,\n",
    "# \tn_bins       =used_bins,\n",
    "# \tnormalize_val=44,\n",
    "# \tdevice       =device\n",
    "# )\n",
    "# y = molp.BandGapDataLoader(\n",
    "# \t'./datasets/test_systems/*.XV',\n",
    "# \tdevice=device\n",
    "# )"
   ]
  },
  {
   "cell_type": "code",
   "execution_count": 4,
   "metadata": {},
   "outputs": [],
   "source": [
    "class MoleculeModel(nn.Module):\n",
    "\tdef __init__(self, dim_space=30,*args, **kwargs) -> None:\n",
    "\t\tsuper().__init__(*args, **kwargs)\n",
    "\n",
    "\t\tself.conv_l1 = nn.Conv3d(in_channels= 1,out_channels=32,kernel_size=(3,3,3),padding=1)\n",
    "\t\tself.conv_l2 = nn.Conv3d(in_channels=32,out_channels=32,kernel_size=(3,3,3),padding=1)\n",
    "\t\tself.pool_1a = nn.AvgPool3d(kernel_size=(3,3,3))\n",
    "\n",
    "\t\tself.conv_l3 = nn.Conv3d(in_channels=32,out_channels=64,kernel_size=(3,3,3),padding=1)\n",
    "\t\tself.conv_l4 = nn.Conv3d(in_channels=64,out_channels=1,kernel_size=(3,3,3),padding=1)\n",
    "\t\tself.pool_2m = nn.MaxPool3d(kernel_size=(3,3,3))\n",
    "\n",
    "\t\tself.dense_1 = nn.Linear(in_features=FLATTENED_SIZE, out_features=128)\n",
    "\t\tself.relu_1  = nn.ReLU()\n",
    "\t\tself.dense_2 = nn.Linear(128, 1)\n",
    "\n",
    "\tdef forward(self, x):\n",
    "\t\tout = self.conv_l1(x)\n",
    "\t\tout = self.conv_l2(out)\n",
    "\t\tout = self.pool_1a(out)\n",
    "\n",
    "\t\tout = self.conv_l3(out)\n",
    "\t\tout = self.conv_l4(out)\n",
    "\t\tout = self.pool_2m(out)\n",
    "\t\tout = out.reshape(out.size(0), -1)\n",
    "\n",
    "\t\tout = self.dense_1(out)\n",
    "\t\tout = self.relu_1(out)\n",
    "\t\tout = self.dense_2(out)\n",
    "\n",
    "\t\treturn out"
   ]
  },
  {
   "cell_type": "code",
   "execution_count": 5,
   "metadata": {},
   "outputs": [
    {
     "name": "stdout",
     "output_type": "stream",
     "text": [
      "torch.Size([1, 1])\n",
      "tensor([[0.1029]], device='cuda:0', grad_fn=<AddmmBackward0>)\n"
     ]
    }
   ],
   "source": [
    "model = MoleculeModel(used_bins).to(device)\n",
    "result = model(X[0].view(1, used_bins, used_bins, used_bins))\n",
    "print(result.shape)\n",
    "print(result)"
   ]
  },
  {
   "cell_type": "code",
   "execution_count": null,
   "metadata": {},
   "outputs": [],
   "source": []
  }
 ],
 "metadata": {
  "kernelspec": {
   "display_name": "Python 3",
   "language": "python",
   "name": "python3"
  },
  "language_info": {
   "codemirror_mode": {
    "name": "ipython",
    "version": 3
   },
   "file_extension": ".py",
   "mimetype": "text/x-python",
   "name": "python",
   "nbconvert_exporter": "python",
   "pygments_lexer": "ipython3",
   "version": "3.11.9"
  }
 },
 "nbformat": 4,
 "nbformat_minor": 2
}
