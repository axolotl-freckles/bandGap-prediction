{
 "cells": [
  {
   "cell_type": "markdown",
   "metadata": {},
   "source": [
    "# Prototipo de preprocesamiento del dataset"
   ]
  },
  {
   "cell_type": "code",
   "execution_count": 1,
   "metadata": {},
   "outputs": [],
   "source": [
    "import glob\n",
    "\n",
    "from typing import Tuple\n",
    "\n",
    "import numpy             as np\n",
    "import pandas            as pd\n",
    "import seaborn           as sns\n",
    "import matplotlib.pyplot as plt\n",
    "import sklearn"
   ]
  },
  {
   "cell_type": "code",
   "execution_count": 2,
   "metadata": {},
   "outputs": [
    {
     "name": "stdout",
     "output_type": "stream",
     "text": [
      "[10, 10]\n",
      "\n",
      "['datasets/test_systems\\\\sys1.XV', 'datasets/test_systems\\\\sys10.XV', 'datasets/test_systems\\\\sys2.XV']\n",
      "...\n",
      "\n",
      "['datasets/test_systems\\\\sys1.xyz', 'datasets/test_systems\\\\sys10.xyz', 'datasets/test_systems\\\\sys2.xyz']\n",
      "...\n"
     ]
    }
   ],
   "source": [
    "data_dir = 'datasets/test_systems'\n",
    "\n",
    "xv_files  = glob.glob(f'{data_dir}/*.XV')\n",
    "xyz_files = glob.glob(f'{data_dir}/*.xyz')\n",
    "\n",
    "print(f'[{len(xv_files)}, {len(xyz_files)}]')\n",
    "print(f'\\n{xv_files [:3]}\\n...')\n",
    "print(f'\\n{xyz_files[:3]}\\n...')"
   ]
  },
  {
   "cell_type": "code",
   "execution_count": 3,
   "metadata": {},
   "outputs": [
    {
     "name": "stdout",
     "output_type": "stream",
     "text": [
      "Número de cubetas del promedio:   25.812\n",
      "Número de cupetas del mínimo  :  516.604\n"
     ]
    }
   ],
   "source": [
    "# coordinate range [-3.368006, 19.782751] (23.150757000000002)\n",
    "\n",
    "MIN_COOR = -3.368006\n",
    "MAX_COOR = 19.782751\n",
    "RANGE    = MAX_COOR - MIN_COOR\n",
    "\n",
    "MIN_DIFF     = 0.04481336368763274\n",
    "AVERAGE_DIFF = 0.8968847383141587\n",
    "\n",
    "av_bins_f = RANGE / AVERAGE_DIFF\n",
    "mn_bins_f = RANGE / MIN_DIFF\n",
    "\n",
    "print(f'Número de cubetas del promedio: {av_bins_f: 8.3f}')\n",
    "print(f'Número de cupetas del mínimo  : {mn_bins_f: 8.3f}')"
   ]
  },
  {
   "cell_type": "code",
   "execution_count": 4,
   "metadata": {},
   "outputs": [
    {
     "name": "stdout",
     "output_type": "stream",
     "text": [
      "136\n",
      "136\n",
      "136\n"
     ]
    }
   ],
   "source": [
    "AVERAGE_BINS = 26\n",
    "MINIMUM_BINS = 517\n",
    "\n",
    "av_coor_space = np.zeros((AVERAGE_BINS, AVERAGE_BINS, AVERAGE_BINS), dtype=int)\n",
    "mn_coor_space = np.zeros((MINIMUM_BINS, MINIMUM_BINS, MINIMUM_BINS), dtype=int)\n",
    "\n",
    "elements = {\n",
    "\t'H' : 1,\n",
    "\t'C' : 6, 'N' : 7, 'O' : 8, 'F' : 9,\n",
    "\t'Si':14, 'P' :15, 'S' :16, 'Cl':17,\n",
    "\t'Ca':20, \n",
    "\t'Mo':44\n",
    "}\n",
    "\n",
    "def get_element(line:str): # -> tuple[str, tuple[float, float float]]:\n",
    "\tdata = line.split()\n",
    "\n",
    "\telement = data[0]\n",
    "\tcoor    = [float(f) for f in data[1:]]\n",
    "\treturn element, coor\n",
    "\n",
    "with open(xyz_files[0], 'r') as coor_file:\n",
    "\tline = coor_file.readline()\n",
    "\n",
    "\tn_mol = int(line)\n",
    "\tprint(n_mol)\n",
    "\tfor i in range(n_mol):\n",
    "\t\tline = coor_file.readline()\n",
    "\t\twhile len(line.split()) <= 0:\n",
    "\t\t\tline = coor_file.readline\t()\n",
    "\t\telement, coordinates = get_element(line)\n",
    "\n",
    "\t\telement     = elements[element]\n",
    "\t\tcoordinates = (np.array(coordinates)-MIN_COOR) / RANGE\n",
    "\n",
    "\t\tav_coor = np.rint(coordinates * AVERAGE_BINS).astype(int)\n",
    "\t\tmn_coor = np.rint(coordinates * MINIMUM_BINS).astype(int)\n",
    "\n",
    "\t\tav_coor_space[av_coor[0], av_coor[1], av_coor[2]] = element\n",
    "\t\tmn_coor_space[mn_coor[0], mn_coor[1], mn_coor[2]] = element\n",
    "print(np.count_nonzero(mn_coor_space))\n",
    "print(np.count_nonzero(av_coor_space))\n",
    "# print(av_coor_space)"
   ]
  },
  {
   "cell_type": "code",
   "execution_count": 5,
   "metadata": {},
   "outputs": [],
   "source": [
    "def space_layout(\n",
    "\tfilename    :str,\n",
    "\telement_dict:dict,\n",
    "\tn_bins      :int,\n",
    "\trange_      :float,\n",
    "\toffset      :float      = 0,\n",
    "\tout         :np.ndarray = None,\n",
    "\treturn_n_mol:bool       = False\n",
    ") -> np.ndarray:\n",
    "\tif out is None:\n",
    "\t\tout = np.zeros((n_bins, n_bins, n_bins))\n",
    "\tn_mol:int = 0\n",
    "\twith open(filename, 'r') as coor_file:\n",
    "\t\tline = coor_file.readline()\n",
    "\n",
    "\t\tn_mol = int(line)\n",
    "\t\tfor i in range(n_mol):\n",
    "\t\t\tline = coor_file.readline()\n",
    "\t\t\twhile len(line.split()) <= 0:\n",
    "\t\t\t\tline = coor_file.readline()\n",
    "\t\t\telement, coors = get_element(line)\n",
    "\n",
    "\t\t\telement = element_dict[element]\n",
    "\t\t\tcoors   = (np.array(coors)-offset) * n_bins / range_\n",
    "\t\t\tcoors   = np.floor(coors).astype(int)\n",
    "\n",
    "\t\t\tout[coors[0], coors[1], coors[2]] = element\n",
    "\tif return_n_mol:\n",
    "\t\treturn out, n_mol\n",
    "\treturn out"
   ]
  },
  {
   "cell_type": "code",
   "execution_count": 6,
   "metadata": {},
   "outputs": [
    {
     "name": "stdout",
     "output_type": "stream",
     "text": [
      "[10]\n",
      "Número de choques      : 0\n",
      "Cubetas usadas         : 30\n",
      "Rango usado            : 23.382264570000004\n",
      "Coordenada mínima usada: -3.368006\n"
     ]
    }
   ],
   "source": [
    "n_clashes:int = 0\n",
    "\n",
    "used_bins     = AVERAGE_BINS + 4\n",
    "used_range    = RANGE + (RANGE/100)\n",
    "used_min_coor = MIN_COOR\n",
    "\n",
    "for i, xyz_file in enumerate(xyz_files):\n",
    "\tprint(f'\\r[{i+1:2d}]', end='')\n",
    "\tcoor_space, n_mol = space_layout(\n",
    "\t\txyz_file, elements, used_bins, used_range, used_min_coor, return_n_mol=True\n",
    "\t)\n",
    "\n",
    "\tn_clashes += n_mol - np.count_nonzero(coor_space)\n",
    "print()\n",
    "print(f'Número de choques      : {n_clashes}')\n",
    "print(f'Cubetas usadas         : {used_bins}')\n",
    "print(f'Rango usado            : {used_range}')\n",
    "print(f'Coordenada mínima usada: {used_min_coor}')"
   ]
  },
  {
   "cell_type": "markdown",
   "metadata": {},
   "source": [
    "## Usando el DataLoader"
   ]
  },
  {
   "cell_type": "code",
   "execution_count": 17,
   "metadata": {},
   "outputs": [
    {
     "name": "stdout",
     "output_type": "stream",
     "text": [
      "torch.Size([30, 30, 30]) 94\n",
      "torch.Size([30, 30, 30]) 96\n",
      "torch.Size([30, 30, 30]) 128\n",
      "torch.Size([30, 30, 30]) 56\n",
      "torch.Size([30, 30, 30]) 124\n",
      "torch.Size([30, 30, 30]) 58\n",
      "torch.Size([30, 30, 30]) 32\n",
      "torch.Size([30, 30, 30]) 136\n",
      "torch.Size([30, 30, 30]) 102\n",
      "torch.Size([30, 30, 30]) 104\n",
      "\n",
      "tensor(14.3808, device='cuda:0')\n",
      "tensor(12.9692, device='cuda:0')\n",
      "tensor(17.8012, device='cuda:0')\n",
      "tensor(16.0494, device='cuda:0')\n",
      "tensor(8.9384, device='cuda:0')\n",
      "tensor(14.7229, device='cuda:0')\n",
      "tensor(10.0080, device='cuda:0')\n",
      "tensor(15.9644, device='cuda:0')\n",
      "tensor(10.5088, device='cuda:0')\n",
      "tensor(13.4171, device='cuda:0')\n",
      "\n",
      "torch.Size([30, 30, 30]) 58\n",
      "tensor(14.7229, device='cuda:0')\n"
     ]
    }
   ],
   "source": [
    "import libs.mol_process as molp\n",
    "import torch\n",
    "\n",
    "dataLoader = molp.MolDataLoader(\n",
    "\tf'{data_dir}/*.xyz', elements,\n",
    "\toffset=used_min_coor,\n",
    "\t_range=used_range,\n",
    "\tn_bins=used_bins,\n",
    "\tbatch_size=4,\n",
    "\tshuffle=True,\n",
    "\tdevice= torch.device('cpu')\n",
    ")\n",
    "targetLoader = molp.BandGapDataLoader(\n",
    "\tf'{data_dir}/*.XV',\n",
    "\tdevice=torch.device('cpu')\n",
    ")\n",
    "\n",
    "for mol in dataLoader:\n",
    "\tprint(f'{mol.shape} {np.count_nonzero(mol.cpu())}')\n",
    "print()\n",
    "for tar in targetLoader:\n",
    "\tprint(tar)\n",
    "\n",
    "mol = dataLoader[5]\n",
    "print(f'\\n{mol.shape} {np.count_nonzero(mol.cpu())}')\n",
    "print(targetLoader[5])"
   ]
  }
 ],
 "metadata": {
  "kernelspec": {
   "display_name": "Python 3",
   "language": "python",
   "name": "python3"
  },
  "language_info": {
   "codemirror_mode": {
    "name": "ipython",
    "version": 3
   },
   "file_extension": ".py",
   "mimetype": "text/x-python",
   "name": "python",
   "nbconvert_exporter": "python",
   "pygments_lexer": "ipython3",
   "version": "3.11.9"
  }
 },
 "nbformat": 4,
 "nbformat_minor": 2
}
