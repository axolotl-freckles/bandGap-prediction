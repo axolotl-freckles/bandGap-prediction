{
 "cells": [
  {
   "cell_type": "markdown",
   "metadata": {},
   "source": [
    "# Prueba de sistemas\n",
    "\n",
    "[ ] - Prueba de data loader\n",
    "[ ] - Prueba de modelo"
   ]
  },
  {
   "cell_type": "code",
   "execution_count": 1,
   "metadata": {},
   "outputs": [
    {
     "name": "stdout",
     "output_type": "stream",
     "text": [
      "NVIDIA GeForce RTX 3060 Laptop GPU\n"
     ]
    }
   ],
   "source": [
    "import glob\n",
    "\n",
    "import numpy             as np\n",
    "import torch.nn          as nn\n",
    "import pandas            as pd\n",
    "import seaborn           as sns\n",
    "import matplotlib.pyplot as plt\n",
    "\n",
    "import sklearn\n",
    "import rdkit\n",
    "import torch\n",
    "\n",
    "from torch.utils.data      import DataLoader\n",
    "from rdkit.Chem.rdmolfiles import MolFromSmiles\n",
    "from rdkit.Chem            import AllChem\n",
    "\n",
    "import models.lstm_mol        as lstm_mol\n",
    "import libs.data_preprocess   as data_pross\n",
    "import libs.train             as train\n",
    "\n",
    "device = torch.device('cuda:0') if torch.cuda.is_available() else torch.device('cpu')\n",
    "print(torch.cuda.get_device_name(device))"
   ]
  },
  {
   "cell_type": "code",
   "execution_count": 2,
   "metadata": {},
   "outputs": [
    {
     "name": "stdout",
     "output_type": "stream",
     "text": [
      "<class 'pandas.core.frame.DataFrame'>\n",
      "RangeIndex: 11368 entries, 0 to 11367\n",
      "Data columns (total 3 columns):\n",
      " #   Column  Non-Null Count  Dtype  \n",
      "---  ------  --------------  -----  \n",
      " 0   CODID   11368 non-null  int64  \n",
      " 1   SMILE   11368 non-null  object \n",
      " 2   bgs     11368 non-null  float64\n",
      "dtypes: float64(1), int64(1), object(1)\n",
      "memory usage: 266.6+ KB\n",
      "None\n"
     ]
    }
   ],
   "source": [
    "data_dir = 'datasets/full'\n",
    "omdb_df = pd.read_csv(f'{data_dir}/omdb_smile_data_set.csv')\n",
    "print(omdb_df.info())"
   ]
  },
  {
   "cell_type": "code",
   "execution_count": 3,
   "metadata": {},
   "outputs": [
    {
     "name": "stdout",
     "output_type": "stream",
     "text": [
      "[Mo]1234([P]5(OC)N(C)CCN5C)(P5N(C)CCN5C)([cH]5[cH]1[cH]2[cH]3[cH]45)C#[O]:\n",
      "   ->tensor([[0.7631]], device='cuda:0', grad_fn=<AddmmBackward0>)\n",
      "Clc1c(Cl)ccc(c1)[C@H](Cl)[C@H](Cl)[C@H](O)C(=O)OC.Clc1c(Cl)ccc(c1)[C@@H](Cl)[C@@H](Cl)[C@@H](O)C(=O)OC:\n",
      "   ->tensor([[0.7630]], device='cuda:0', grad_fn=<AddmmBackward0>)\n",
      "O[C@H]1[C@H]2[C@H](NCc3c4OCOc4ccc23)c2c(C1)cc1OCOc1c2.O[C@@H]1[C@@H]2[C@@H](NCc3c4OCOc4ccc23)c2c(C1)cc1OCOc1c2:\n",
      "   ->tensor([[0.7624]], device='cuda:0', grad_fn=<AddmmBackward0>)\n"
     ]
    }
   ],
   "source": [
    "model = lstm_mol.LSTM_MOL(5).to(device)\n",
    "\n",
    "for i in range(3):\n",
    "\tsmile = omdb_df['SMILE'][i]\n",
    "\tchar_smile = [float(ord(char)) for char in smile]\n",
    "\tx = torch.tensor([char_smile]).to(device)\n",
    "\t# print(x, end='\\n\\n')\n",
    "\tout = model(x)\n",
    "\n",
    "\tprint(f'{smile}:\\n   ->{out}')"
   ]
  },
  {
   "cell_type": "code",
   "execution_count": 4,
   "metadata": {},
   "outputs": [
    {
     "name": "stdout",
     "output_type": "stream",
     "text": [
      "[tensor([ 91.,  77., 111.,  93.,  49.,  50.,  51.,  52.,  40.,  91.,  80.,  93.,\n",
      "         53.,  40.,  79.,  67.,  41.,  78.,  40.,  67.,  41.,  67.,  67.,  78.,\n",
      "         53.,  67.,  41.,  40.,  80.,  53.,  78.,  40.,  67.,  41.,  67.,  67.,\n",
      "         78.,  53.,  67.,  41.,  40.,  91.,  99.,  72.,  93.,  53.,  91.,  99.,\n",
      "         72.,  93.,  49.,  91.,  99.,  72.,  93.,  50.,  91.,  99.,  72.,  93.,\n",
      "         51.,  91.,  99.,  72.,  93.,  52.,  53.,  41.,  67.,  35.,  91.,  79.,\n",
      "         93.]), tensor([ 67., 108.,  99.,  49.,  99.,  40.,  67., 108.,  41.,  99.,  99.,  99.,\n",
      "         40.,  99.,  49.,  41.,  91.,  67.,  64.,  72.,  93.,  40.,  67., 108.,\n",
      "         41.,  91.,  67.,  64.,  72.,  93.,  40.,  67., 108.,  41.,  91.,  67.,\n",
      "         64.,  72.,  93.,  40.,  79.,  41.,  67.,  40.,  61.,  79.,  41.,  79.,\n",
      "         67.,  46.,  67., 108.,  99.,  49.,  99.,  40.,  67., 108.,  41.,  99.,\n",
      "         99.,  99.,  40.,  99.,  49.,  41.,  91.,  67.,  64.,  64.,  72.,  93.,\n",
      "         40.,  67., 108.,  41.,  91.,  67.,  64.,  64.,  72.,  93.,  40.,  67.,\n",
      "        108.,  41.,  91.,  67.,  64.,  64.,  72.,  93.,  40.,  79.,  41.,  67.,\n",
      "         40.,  61.,  79.,  41.,  79.,  67.]), tensor([79., 91., 67., 64., 72., 93., 49., 91., 67., 64., 72., 93., 50., 91.,\n",
      "        67., 64., 72., 93., 40., 78., 67., 99., 51., 99., 52., 79., 67., 79.,\n",
      "        99., 52., 99., 99., 99., 50., 51., 41., 99., 50., 99., 40., 67., 49.,\n",
      "        41., 99., 99., 49., 79., 67., 79., 99., 49., 99., 50., 46., 79., 91.,\n",
      "        67., 64., 64., 72., 93., 49., 91., 67., 64., 64., 72., 93., 50., 91.,\n",
      "        67., 64., 64., 72., 93., 40., 78., 67., 99., 51., 99., 52., 79., 67.,\n",
      "        79., 99., 52., 99., 99., 99., 50., 51., 41., 99., 50., 99., 40., 67.,\n",
      "        49., 41., 99., 99., 49., 79., 67., 79., 99., 49., 99., 50.])]\n",
      "tensor([[2.7900],\n",
      "        [1.1200],\n",
      "        [3.3400]])\n"
     ]
    }
   ],
   "source": [
    "TEST_SIZE = 100\n",
    "X = [\n",
    "\ttorch.tensor( [float(ord(char)) for char in smile] ) \\\n",
    "\tfor smile in omdb_df['SMILE'][:TEST_SIZE]\n",
    "]\n",
    "Y = torch.Tensor(omdb_df['bgs'][:TEST_SIZE]).unsqueeze(1)\n",
    "print(X[:3])\n",
    "print(Y[:3])\n",
    "\n",
    "dataset = data_pross.MultiLenDataset(X, Y, False)"
   ]
  },
  {
   "cell_type": "code",
   "execution_count": 5,
   "metadata": {},
   "outputs": [
    {
     "name": "stdout",
     "output_type": "stream",
     "text": [
      "torch.Size([158])\n",
      "torch.Size([158])\n",
      "tensor([[ 79.,  49.,  67.,  ...,   0.,   0.,   0.],\n",
      "        [ 79.,  67.,  40.,  ...,   0.,   0.,   0.],\n",
      "        [ 78.,  49.,  67.,  ...,   0.,   0.,   0.],\n",
      "        ...,\n",
      "        [115.,  49.,  99.,  ...,   0.,   0.,   0.],\n",
      "        [ 79.,  61.,  80.,  ...,   0.,   0.,   0.],\n",
      "        [ 78.,  40.,  67.,  ...,   0.,   0.,   0.]])\n",
      "tensor([[4.6300],\n",
      "        [2.7200],\n",
      "        [4.7500],\n",
      "        [3.6700],\n",
      "        [2.9800],\n",
      "        [0.4140],\n",
      "        [3.2800],\n",
      "        [2.1100],\n",
      "        [3.6000],\n",
      "        [1.8900]])\n"
     ]
    }
   ],
   "source": [
    "print(dataset[0][0].shape)\n",
    "print(dataset[1][0].shape)\n",
    "\n",
    "test_train_dataloader = DataLoader(dataset, batch_size=10, shuffle=True)\n",
    "\n",
    "batch_x, batch_y = next(iter(test_train_dataloader))\n",
    "\n",
    "print(batch_x[:])\n",
    "print(batch_y[:])"
   ]
  },
  {
   "cell_type": "code",
   "execution_count": 6,
   "metadata": {},
   "outputs": [
    {
     "name": "stderr",
     "output_type": "stream",
     "text": [
      "Epoch [1/10] | Starting Loss (inf): : 10it [00:01,  8.88it/s]\n",
      "Epoch [2/10] | Starting Loss (1.991e+00): : 10it [00:01,  8.20it/s]\n",
      "Epoch [3/10] | Starting Loss (2.939e+00): : 10it [00:01,  9.13it/s]\n",
      "Epoch [4/10] | Starting Loss (2.260e+00): : 10it [00:01,  9.11it/s]\n",
      "Epoch [5/10] | Starting Loss (6.913e-01): : 10it [00:01,  9.43it/s]\n",
      "Epoch [6/10] | Starting Loss (6.806e-01): : 10it [00:01,  9.04it/s]\n",
      "Epoch [7/10] | Starting Loss (1.490e+00): : 10it [00:01,  9.85it/s]\n",
      "Epoch [8/10] | Starting Loss (9.156e-01): : 10it [00:01,  9.77it/s]\n",
      "Epoch [9/10] | Starting Loss (1.120e+00): : 10it [00:01,  9.81it/s]\n",
      "Epoch [10/10] | Starting Loss (4.944e-01): : 10it [00:01,  9.92it/s]"
     ]
    },
    {
     "name": "stdout",
     "output_type": "stream",
     "text": [
      "Final train loss: 5.591e-01\n"
     ]
    },
    {
     "name": "stderr",
     "output_type": "stream",
     "text": [
      "\n"
     ]
    }
   ],
   "source": [
    "loss_fn   = nn.MSELoss()\n",
    "optimizer = torch.optim.Adam(model.parameters(), lr=0.2)\n",
    "\n",
    "trainer = train.ModelTrainer(\n",
    "\t'sysTest', model, device, test_train_dataloader, loss_fn, optimizer,\n",
    "\tout_dir='saved_models'\n",
    ")\n",
    "\n",
    "train_loss, chpt_hist = trainer.train(n_epochs=10)"
   ]
  },
  {
   "cell_type": "code",
   "execution_count": 7,
   "metadata": {},
   "outputs": [
    {
     "name": "stdout",
     "output_type": "stream",
     "text": [
      "Loading previous checkpoint... Done!, resuming from epoch[7]\n"
     ]
    },
    {
     "name": "stderr",
     "output_type": "stream",
     "text": [
      "Epoch [8/17] | Starting Loss (2.718e-01): : 0it [00:00, ?it/s]"
     ]
    },
    {
     "name": "stderr",
     "output_type": "stream",
     "text": [
      "Epoch [8/17] | Starting Loss (2.718e-01): : 10it [00:01,  9.82it/s]\n",
      "Epoch [9/17] | Starting Loss (1.022e+00): : 10it [00:00, 10.02it/s]\n",
      "Epoch [10/17] | Starting Loss (7.368e-01): : 10it [00:01,  9.94it/s]\n",
      "Epoch [11/17] | Starting Loss (1.116e+00): : 10it [00:01,  8.16it/s]\n",
      "Epoch [12/17] | Starting Loss (7.105e-01): : 10it [00:01,  8.40it/s]\n",
      "Epoch [13/17] | Starting Loss (1.765e+00): : 10it [00:01,  9.27it/s]\n",
      "Epoch [14/17] | Starting Loss (6.567e-01): : 10it [00:01,  9.60it/s]\n",
      "Epoch [15/17] | Starting Loss (1.354e+00): : 10it [00:01,  9.67it/s]\n",
      "Epoch [16/17] | Starting Loss (5.470e-01): : 10it [00:01,  9.25it/s]\n",
      "Epoch [17/17] | Starting Loss (6.993e-01): : 10it [00:01,  9.58it/s]"
     ]
    },
    {
     "name": "stdout",
     "output_type": "stream",
     "text": [
      "Final train loss: 1.551e+00\n"
     ]
    },
    {
     "name": "stderr",
     "output_type": "stream",
     "text": [
      "\n"
     ]
    }
   ],
   "source": [
    "train_loss2, chpt_hist2 = trainer.train(n_epochs=10, load_checkpoint=True)"
   ]
  },
  {
   "cell_type": "code",
   "execution_count": 8,
   "metadata": {},
   "outputs": [
    {
     "data": {
      "image/png": "[encoded data removed]",
      "text/plain": [
       "<Figure size 640x480 with 1 Axes>"
      ]
     },
     "metadata": {},
     "output_type": "display_data"
    },
    {
     "data": {
      "image/png": "[encoded data removed]",
      "text/plain": [
       "<Figure size 640x480 with 1 Axes>"
      ]
     },
     "metadata": {},
     "output_type": "display_data"
    }
   ],
   "source": [
    "for chpt_idx in chpt_hist:\n",
    "\tplt.scatter(chpt_idx, train_loss[chpt_idx], c='orange')\n",
    "plt.plot(train_loss)\n",
    "plt.show()\n",
    "\n",
    "for chpt_idx in chpt_hist2:\n",
    "\tplt.scatter(chpt_idx, train_loss[chpt_idx], c='orange')\n",
    "plt.plot(train_loss2)\n",
    "plt.show()"
   ]
  }
 ],
 "metadata": {
  "kernelspec": {
   "display_name": "Python 3",
   "language": "python",
   "name": "python3"
  },
  "language_info": {
   "codemirror_mode": {
    "name": "ipython",
    "version": 3
   },
   "file_extension": ".py",
   "mimetype": "text/x-python",
   "name": "python",
   "nbconvert_exporter": "python",
   "pygments_lexer": "ipython3",
   "version": "3.11.9"
  }
 },
 "nbformat": 4,
 "nbformat_minor": 2
}
