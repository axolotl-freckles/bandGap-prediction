{
 "cells": [
  {
   "cell_type": "markdown",
   "metadata": {},
   "source": [
    "# Prueba de sistemas\n",
    "\n",
    "[ ] - Prueba de data loader\n",
    "[ ] - Prueba de modelo"
   ]
  },
  {
   "cell_type": "code",
   "execution_count": 1,
   "metadata": {},
   "outputs": [
    {
     "name": "stdout",
     "output_type": "stream",
     "text": [
      "NVIDIA GeForce RTX 3060 Laptop GPU\n"
     ]
    }
   ],
   "source": [
    "import glob\n",
    "\n",
    "import numpy             as np\n",
    "import torch.nn          as nn\n",
    "import pandas            as pd\n",
    "import seaborn           as sns\n",
    "import matplotlib.pyplot as plt\n",
    "\n",
    "import sklearn\n",
    "import rdkit\n",
    "import torch\n",
    "\n",
    "from torch.utils.data      import DataLoader\n",
    "from rdkit.Chem.rdmolfiles import MolFromSmiles\n",
    "from rdkit.Chem            import AllChem\n",
    "\n",
    "import models.lstm_mol        as lstm_mol\n",
    "import libs.data_preprocess   as data_pross\n",
    "import libs.train             as train\n",
    "\n",
    "device = torch.device('cuda:0') if torch.cuda.is_available() else torch.device('cpu')\n",
    "print(torch.cuda.get_device_name(device))"
   ]
  },
  {
   "cell_type": "code",
   "execution_count": 2,
   "metadata": {},
   "outputs": [
    {
     "name": "stdout",
     "output_type": "stream",
     "text": [
      "<class 'pandas.core.frame.DataFrame'>\n",
      "RangeIndex: 11368 entries, 0 to 11367\n",
      "Data columns (total 3 columns):\n",
      " #   Column  Non-Null Count  Dtype  \n",
      "---  ------  --------------  -----  \n",
      " 0   CODID   11368 non-null  int64  \n",
      " 1   SMILE   11368 non-null  object \n",
      " 2   bgs     11368 non-null  float64\n",
      "dtypes: float64(1), int64(1), object(1)\n",
      "memory usage: 266.6+ KB\n",
      "None\n"
     ]
    }
   ],
   "source": [
    "data_dir = 'datasets/full'\n",
    "omdb_df = pd.read_csv(f'{data_dir}/omdb_smile_data_set.csv')\n",
    "print(omdb_df.info())"
   ]
  },
  {
   "cell_type": "code",
   "execution_count": 3,
   "metadata": {},
   "outputs": [
    {
     "name": "stdout",
     "output_type": "stream",
     "text": [
      "[Mo]1234([P]5(OC)N(C)CCN5C)(P5N(C)CCN5C)([cH]5[cH]1[cH]2[cH]3[cH]45)C#[O]:\n",
      "   ->tensor([[0.1170]], device='cuda:0', grad_fn=<AddmmBackward0>)\n",
      "Clc1c(Cl)ccc(c1)[C@H](Cl)[C@H](Cl)[C@H](O)C(=O)OC.Clc1c(Cl)ccc(c1)[C@@H](Cl)[C@@H](Cl)[C@@H](O)C(=O)OC:\n",
      "   ->tensor([[0.1170]], device='cuda:0', grad_fn=<AddmmBackward0>)\n",
      "O[C@H]1[C@H]2[C@H](NCc3c4OCOc4ccc23)c2c(C1)cc1OCOc1c2.O[C@@H]1[C@@H]2[C@@H](NCc3c4OCOc4ccc23)c2c(C1)cc1OCOc1c2:\n",
      "   ->tensor([[0.1171]], device='cuda:0', grad_fn=<AddmmBackward0>)\n"
     ]
    }
   ],
   "source": [
    "model = lstm_mol.LSTM_MOL(5).to(device)\n",
    "\n",
    "for i in range(3):\n",
    "\tsmile = omdb_df['SMILE'][i]\n",
    "\tchar_smile = [float(ord(char)) for char in smile]\n",
    "\tx = torch.tensor([char_smile]).to(device)\n",
    "\t# print(x, end='\\n\\n')\n",
    "\tout = model(x)\n",
    "\n",
    "\tprint(f'{smile}:\\n   ->{out}')"
   ]
  },
  {
   "cell_type": "code",
   "execution_count": 4,
   "metadata": {},
   "outputs": [
    {
     "name": "stdout",
     "output_type": "stream",
     "text": [
      "[tensor([ 91.,  77., 111.,  93.,  49.,  50.,  51.,  52.,  40.,  91.,  80.,  93.,\n",
      "         53.,  40.,  79.,  67.,  41.,  78.,  40.,  67.,  41.,  67.,  67.,  78.,\n",
      "         53.,  67.,  41.,  40.,  80.,  53.,  78.,  40.,  67.,  41.,  67.,  67.,\n",
      "         78.,  53.,  67.,  41.,  40.,  91.,  99.,  72.,  93.,  53.,  91.,  99.,\n",
      "         72.,  93.,  49.,  91.,  99.,  72.,  93.,  50.,  91.,  99.,  72.,  93.,\n",
      "         51.,  91.,  99.,  72.,  93.,  52.,  53.,  41.,  67.,  35.,  91.,  79.,\n",
      "         93.]), tensor([ 67., 108.,  99.,  49.,  99.,  40.,  67., 108.,  41.,  99.,  99.,  99.,\n",
      "         40.,  99.,  49.,  41.,  91.,  67.,  64.,  72.,  93.,  40.,  67., 108.,\n",
      "         41.,  91.,  67.,  64.,  72.,  93.,  40.,  67., 108.,  41.,  91.,  67.,\n",
      "         64.,  72.,  93.,  40.,  79.,  41.,  67.,  40.,  61.,  79.,  41.,  79.,\n",
      "         67.,  46.,  67., 108.,  99.,  49.,  99.,  40.,  67., 108.,  41.,  99.,\n",
      "         99.,  99.,  40.,  99.,  49.,  41.,  91.,  67.,  64.,  64.,  72.,  93.,\n",
      "         40.,  67., 108.,  41.,  91.,  67.,  64.,  64.,  72.,  93.,  40.,  67.,\n",
      "        108.,  41.,  91.,  67.,  64.,  64.,  72.,  93.,  40.,  79.,  41.,  67.,\n",
      "         40.,  61.,  79.,  41.,  79.,  67.]), tensor([79., 91., 67., 64., 72., 93., 49., 91., 67., 64., 72., 93., 50., 91.,\n",
      "        67., 64., 72., 93., 40., 78., 67., 99., 51., 99., 52., 79., 67., 79.,\n",
      "        99., 52., 99., 99., 99., 50., 51., 41., 99., 50., 99., 40., 67., 49.,\n",
      "        41., 99., 99., 49., 79., 67., 79., 99., 49., 99., 50., 46., 79., 91.,\n",
      "        67., 64., 64., 72., 93., 49., 91., 67., 64., 64., 72., 93., 50., 91.,\n",
      "        67., 64., 64., 72., 93., 40., 78., 67., 99., 51., 99., 52., 79., 67.,\n",
      "        79., 99., 52., 99., 99., 99., 50., 51., 41., 99., 50., 99., 40., 67.,\n",
      "        49., 41., 99., 99., 49., 79., 67., 79., 99., 49., 99., 50.])]\n",
      "tensor([[2.7900],\n",
      "        [1.1200],\n",
      "        [3.3400]])\n"
     ]
    }
   ],
   "source": [
    "TEST_SIZE = 100\n",
    "X = [\n",
    "\ttorch.tensor( [float(ord(char)) for char in smile] ) \\\n",
    "\tfor smile in omdb_df['SMILE'][:TEST_SIZE]\n",
    "]\n",
    "Y = torch.Tensor(omdb_df['bgs'][:TEST_SIZE]).unsqueeze(1)\n",
    "print(X[:3])\n",
    "print(Y[:3])"
   ]
  },
  {
   "cell_type": "code",
   "execution_count": 5,
   "metadata": {},
   "outputs": [
    {
     "name": "stdout",
     "output_type": "stream",
     "text": [
      "torch.Size([158])\n",
      "torch.Size([158])\n",
      "tensor([[  0.,   0.,   0.,  ..., 110.,  99.,  49.],\n",
      "        [  0.,   0.,   0.,  ...,  41.,  67., 108.],\n",
      "        [  0.,   0.,   0.,  ...,  79.,  67.,  67.],\n",
      "        ...,\n",
      "        [  0.,   0.,   0.,  ...,  67.,  67.,  49.],\n",
      "        [  0.,   0.,   0.,  ...,  41.,  79.,  67.],\n",
      "        [  0.,   0.,   0.,  ...,  49.,  99.,  50.]])\n",
      "tensor([[2.7200],\n",
      "        [3.6000],\n",
      "        [3.1700],\n",
      "        [2.5100],\n",
      "        [4.2700],\n",
      "        [2.2300],\n",
      "        [2.1100],\n",
      "        [4.0100],\n",
      "        [1.1200],\n",
      "        [3.3400]])\n"
     ]
    }
   ],
   "source": [
    "dataset = data_pross.MultiLenDataset(X, Y, False)\n",
    "\n",
    "print(dataset[0][0].shape)\n",
    "print(dataset[1][0].shape)\n",
    "\n",
    "test_train_dataloader = DataLoader(dataset, batch_size=10, shuffle=True)\n",
    "\n",
    "batch_x, batch_y = next(iter(test_train_dataloader))\n",
    "\n",
    "print(batch_x[:])\n",
    "print(batch_y[:])"
   ]
  },
  {
   "cell_type": "code",
   "execution_count": 6,
   "metadata": {},
   "outputs": [
    {
     "name": "stderr",
     "output_type": "stream",
     "text": [
      "E[1/10] | St Loss(inf): : 10it [00:00, 10.71it/s]\n",
      "E[2/10] | St Loss(1.82e+00): : 10it [00:00, 10.80it/s]\n",
      "E[3/10] | St Loss(1.24e+00): : 10it [00:00, 12.04it/s]\n",
      "E[4/10] | St Loss(1.24e+00): : 10it [00:00, 11.45it/s]\n",
      "E[5/10] | St Loss(1.03e+00): : 10it [00:00, 12.06it/s]\n",
      "E[6/10] | St Loss(3.80e-01): : 10it [00:00, 11.25it/s]\n",
      "E[7/10] | St Loss(1.64e+00): : 10it [00:00, 11.40it/s]\n",
      "E[8/10] | St Loss(6.58e-01): : 10it [00:00, 12.26it/s]\n",
      "E[9/10] | St Loss(9.42e-01): : 10it [00:00, 10.57it/s]\n",
      "E[10/10] | St Loss(1.78e+00): : 10it [00:01,  9.25it/s]"
     ]
    },
    {
     "name": "stdout",
     "output_type": "stream",
     "text": [
      "Final train loss: 8.194e-01\n",
      "Final best loss : 3.175e-01\n"
     ]
    },
    {
     "name": "stderr",
     "output_type": "stream",
     "text": [
      "\n"
     ]
    }
   ],
   "source": [
    "loss_fn   = nn.MSELoss()\n",
    "optimizer = torch.optim.Adam(model.parameters(), lr=0.2)\n",
    "\n",
    "trainer = train.ModelTrainer(\n",
    "\t'sysTest', model, device, test_train_dataloader, loss_fn, optimizer,\n",
    "\tout_dir='saved_models'\n",
    ")\n",
    "\n",
    "train_loss, chpt_hist = trainer.train(n_epochs=10)"
   ]
  },
  {
   "cell_type": "code",
   "execution_count": 7,
   "metadata": {},
   "outputs": [
    {
     "name": "stdout",
     "output_type": "stream",
     "text": [
      "Loading previous checkpoint... Done!, resuming from epoch[4]\n"
     ]
    },
    {
     "name": "stderr",
     "output_type": "stream",
     "text": [
      "E[5/14] | St Loss(3.17e-01): : 0it [00:00, ?it/s]"
     ]
    },
    {
     "name": "stderr",
     "output_type": "stream",
     "text": [
      "E[5/14] | St Loss(3.17e-01): : 10it [00:01,  9.81it/s]\n",
      "E[6/14] | St Loss(1.05e+00): : 10it [00:00, 11.32it/s]\n",
      "E[7/14] | St Loss(1.15e+00): : 10it [00:00, 10.95it/s]\n",
      "E[8/14] | St Loss(8.15e-01): : 10it [00:00, 10.91it/s]\n",
      "E[9/14] | St Loss(1.08e+00): : 10it [00:00, 10.56it/s]\n",
      "E[10/14] | St Loss(7.44e-01): : 10it [00:00, 11.94it/s]\n",
      "E[11/14] | St Loss(2.12e+00): : 10it [00:00, 10.83it/s]\n",
      "E[12/14] | St Loss(8.41e-01): : 10it [00:00, 11.37it/s]\n",
      "E[13/14] | St Loss(8.99e-01): : 10it [00:00, 12.32it/s]\n",
      "E[14/14] | St Loss(1.34e+00): : 10it [00:00, 12.72it/s]\n"
     ]
    },
    {
     "name": "stdout",
     "output_type": "stream",
     "text": [
      "Final train loss: 1.799e+00\n",
      "Final best loss : 3.175e-01\n"
     ]
    }
   ],
   "source": [
    "train_loss2, chpt_hist2 = trainer.train(n_epochs=10, load_checkpoint=True)"
   ]
  },
  {
   "cell_type": "code",
   "execution_count": 8,
   "metadata": {},
   "outputs": [
    {
     "data": {
      "image/png": "[encoded data removed]",
      "text/plain": [
       "<Figure size 640x480 with 1 Axes>"
      ]
     },
     "metadata": {},
     "output_type": "display_data"
    },
    {
     "data": {
      "image/png": "[encoded data removed]",
      "text/plain": [
       "<Figure size 640x480 with 1 Axes>"
      ]
     },
     "metadata": {},
     "output_type": "display_data"
    }
   ],
   "source": [
    "for chpt_idx, chpt_val in chpt_hist:\n",
    "\tplt.scatter(chpt_idx, chpt_val, c='orange')\n",
    "plt.plot(train_loss)\n",
    "plt.show()\n",
    "\n",
    "for chpt_idx, chpt_val in chpt_hist2:\n",
    "\tplt.scatter(chpt_idx, chpt_val, c='orange')\n",
    "plt.plot(train_loss2)\n",
    "plt.show()"
   ]
  },
  {
   "cell_type": "code",
   "execution_count": 9,
   "metadata": {},
   "outputs": [
    {
     "name": "stdout",
     "output_type": "stream",
     "text": [
      "Training \"TEST_h5_3x3_ReLU\"!\n"
     ]
    },
    {
     "name": "stderr",
     "output_type": "stream",
     "text": [
      "E[1/10] | St Loss(inf): : 10it [00:00, 12.38it/s]\n",
      "E[2/10] | St Loss(1.71e+00): : 10it [00:00, 11.67it/s]\n",
      "E[3/10] | St Loss(1.28e+00): : 10it [00:00, 11.44it/s]\n",
      "E[4/10] | St Loss(1.26e+00): : 10it [00:00, 11.15it/s]\n",
      "E[5/10] | St Loss(5.61e-01): : 10it [00:00, 11.03it/s]\n",
      "E[6/10] | St Loss(6.71e-01): : 10it [00:01,  8.88it/s]\n",
      "E[7/10] | St Loss(1.42e+00): : 10it [00:01,  9.88it/s]\n",
      "E[8/10] | St Loss(3.42e-01): : 10it [00:00, 10.35it/s]\n",
      "E[9/10] | St Loss(1.39e+00): : 10it [00:00, 11.05it/s]\n",
      "E[10/10] | St Loss(9.48e-01): : 10it [00:01,  9.69it/s]\n"
     ]
    },
    {
     "name": "stdout",
     "output_type": "stream",
     "text": [
      "Final train loss: 1.769e-01\n",
      "Final best loss : 6.398e-01\n",
      "\n",
      "Second training\n",
      "Loading previous checkpoint... Done!, resuming from epoch[6]\n"
     ]
    },
    {
     "name": "stderr",
     "output_type": "stream",
     "text": [
      "E[7/16] | St Loss(6.40e-01): : 10it [00:01,  5.72it/s]\n",
      "E[8/16] | St Loss(1.75e+00): : 10it [00:01,  5.72it/s]\n",
      "E[9/16] | St Loss(4.68e-01): : 10it [00:01,  5.57it/s]\n",
      "E[10/16] | St Loss(1.00e+00): : 10it [00:01,  5.70it/s]\n",
      "E[11/16] | St Loss(1.23e+00): : 10it [00:01,  5.95it/s]\n",
      "E[12/16] | St Loss(1.29e+00): : 10it [00:01,  5.68it/s]\n",
      "E[13/16] | St Loss(1.37e+00): : 10it [00:01,  5.66it/s]\n",
      "E[14/16] | St Loss(1.90e+00): : 10it [00:01,  5.90it/s]\n",
      "E[15/16] | St Loss(1.51e+00): : 10it [00:01,  5.97it/s]\n",
      "E[16/16] | St Loss(1.13e+00): : 10it [00:01,  6.45it/s]\n"
     ]
    },
    {
     "name": "stdout",
     "output_type": "stream",
     "text": [
      "Final train loss: 1.510e+00\n",
      "Final best loss : 2.045e-01\n",
      "\n",
      "Training \"TEST_h10_3i3i1_ReLU\"!\n"
     ]
    },
    {
     "name": "stderr",
     "output_type": "stream",
     "text": [
      "E[1/10] | St Loss(inf): : 10it [00:01,  6.19it/s]\n",
      "E[2/10] | St Loss(2.22e+00): : 10it [00:01,  6.51it/s]\n",
      "E[3/10] | St Loss(1.14e+00): : 10it [00:01,  6.06it/s]\n",
      "E[4/10] | St Loss(8.49e-01): : 10it [00:01,  5.50it/s]\n",
      "E[5/10] | St Loss(2.58e-01): : 10it [00:01,  5.66it/s]\n",
      "E[6/10] | St Loss(1.65e+00): : 10it [00:01,  5.89it/s]\n",
      "E[7/10] | St Loss(1.03e+00): : 10it [00:01,  6.02it/s]\n",
      "E[8/10] | St Loss(1.84e+00): : 10it [00:01,  5.94it/s]\n",
      "E[9/10] | St Loss(4.01e-01): : 10it [00:01,  6.35it/s]\n",
      "E[10/10] | St Loss(1.10e+00): : 10it [00:01,  6.32it/s]\n"
     ]
    },
    {
     "name": "stdout",
     "output_type": "stream",
     "text": [
      "Final train loss: 2.612e-01\n",
      "Final best loss : 2.950e-01\n",
      "\n",
      "Second training\n",
      "Loading previous checkpoint... Done!, resuming from epoch[10]\n"
     ]
    },
    {
     "name": "stderr",
     "output_type": "stream",
     "text": [
      "E[11/20] | St Loss(2.95e-01): : 10it [00:01,  6.90it/s]\n",
      "E[12/20] | St Loss(1.38e+00): : 10it [00:01,  5.98it/s]\n",
      "E[13/20] | St Loss(5.36e-01): : 10it [00:01,  5.82it/s]\n",
      "E[14/20] | St Loss(7.38e-01): : 10it [00:01,  5.63it/s]\n",
      "E[15/20] | St Loss(9.85e-01): : 10it [00:01,  5.10it/s]\n",
      "E[16/20] | St Loss(1.58e+00): : 10it [00:01,  5.53it/s]\n",
      "E[17/20] | St Loss(1.55e+00): : 10it [00:01,  5.78it/s]\n",
      "E[18/20] | St Loss(1.09e+00): : 10it [00:01,  6.13it/s]\n",
      "E[19/20] | St Loss(1.54e+00): : 10it [00:01,  6.10it/s]\n",
      "E[20/20] | St Loss(1.39e+00): : 10it [00:01,  6.09it/s]\n"
     ]
    },
    {
     "name": "stdout",
     "output_type": "stream",
     "text": [
      "Final train loss: 1.830e+00\n",
      "Final best loss : 2.886e-01\n",
      "\n"
     ]
    }
   ],
   "source": [
    "from models.configs import SYS_TEST_CONFIGS\n",
    "\n",
    "for key, item in SYS_TEST_CONFIGS.items():\n",
    "\tprint(f'Training \"{key}\"!')\n",
    "\tmodel     = lstm_mol.LSTM_MOL(item['h_size'], item['l_config']).to(device)\n",
    "\tloss_fn   = nn.MSELoss()\n",
    "\toptimizer = torch.optim.Adam(model.parameters(), lr=0.2)\n",
    "\n",
    "\ttrainer = train.ModelTrainer(\n",
    "\t\tkey, model, device, test_train_dataloader, loss_fn, optimizer,\n",
    "\t\tout_dir='saved_models'\n",
    "\t)\n",
    "\n",
    "\ttrainer.train(n_epochs=10)\n",
    "\tprint(f'\\nSecond training')\n",
    "\ttrainer.train(n_epochs=10, load_checkpoint=True)\n",
    "\tprint()"
   ]
  }
 ],
 "metadata": {
  "kernelspec": {
   "display_name": "Python 3",
   "language": "python",
   "name": "python3"
  },
  "language_info": {
   "codemirror_mode": {
    "name": "ipython",
    "version": 3
   },
   "file_extension": ".py",
   "mimetype": "text/x-python",
   "name": "python",
   "nbconvert_exporter": "python",
   "pygments_lexer": "ipython3",
   "version": "3.11.9"
  }
 },
 "nbformat": 4,
 "nbformat_minor": 2
}
