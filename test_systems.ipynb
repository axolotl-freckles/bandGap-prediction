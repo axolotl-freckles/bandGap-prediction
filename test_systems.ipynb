{
 "cells": [
  {
   "cell_type": "markdown",
   "metadata": {},
   "source": [
    "# Prueba de sistemas\n",
    "\n",
    "[ ] - Prueba de data loader\n",
    "[ ] - Prueba de modelo"
   ]
  },
  {
   "cell_type": "code",
   "execution_count": 1,
   "metadata": {},
   "outputs": [
    {
     "name": "stdout",
     "output_type": "stream",
     "text": [
      "NVIDIA GeForce RTX 3060 Laptop GPU\n"
     ]
    }
   ],
   "source": [
    "import glob\n",
    "\n",
    "import numpy             as np\n",
    "import pandas            as pd\n",
    "import seaborn           as sns\n",
    "import matplotlib.pyplot as plt\n",
    "\n",
    "import sklearn\n",
    "import rdkit\n",
    "import torch\n",
    "\n",
    "from rdkit.Chem.rdmolfiles import MolFromSmiles\n",
    "from rdkit.Chem            import AllChem\n",
    "\n",
    "import libs.lstm_mol as lstm_mol\n",
    "\n",
    "device = torch.device('cuda:0') if torch.cuda.is_available() else torch.device('cpu')\n",
    "print(torch.cuda.get_device_name(device))"
   ]
  },
  {
   "cell_type": "code",
   "execution_count": 2,
   "metadata": {},
   "outputs": [
    {
     "name": "stdout",
     "output_type": "stream",
     "text": [
      "<class 'pandas.core.frame.DataFrame'>\n",
      "RangeIndex: 11368 entries, 0 to 11367\n",
      "Data columns (total 3 columns):\n",
      " #   Column  Non-Null Count  Dtype  \n",
      "---  ------  --------------  -----  \n",
      " 0   CODID   11368 non-null  int64  \n",
      " 1   SMILE   11368 non-null  object \n",
      " 2   bgs     11368 non-null  float64\n",
      "dtypes: float64(1), int64(1), object(1)\n",
      "memory usage: 266.6+ KB\n",
      "None\n"
     ]
    }
   ],
   "source": [
    "data_dir = 'datasets/full'\n",
    "\n",
    "omdb_df = pd.read_csv(f'{data_dir}/omdb_smile_data_set.csv')\n",
    "\n",
    "print(omdb_df.info())"
   ]
  },
  {
   "cell_type": "code",
   "execution_count": 3,
   "metadata": {},
   "outputs": [
    {
     "name": "stdout",
     "output_type": "stream",
     "text": [
      "[Mo]1234([P]5(OC)N(C)CCN5C)(P5N(C)CCN5C)([cH]5[cH]1[cH]2[cH]3[cH]45)C#[O]:\n",
      "   ->tensor([-0.0460], device='cuda:0', grad_fn=<ViewBackward0>)\n",
      "Clc1c(Cl)ccc(c1)[C@H](Cl)[C@H](Cl)[C@H](O)C(=O)OC.Clc1c(Cl)ccc(c1)[C@@H](Cl)[C@@H](Cl)[C@@H](O)C(=O)OC:\n",
      "   ->tensor([-0.0429], device='cuda:0', grad_fn=<ViewBackward0>)\n",
      "O[C@H]1[C@H]2[C@H](NCc3c4OCOc4ccc23)c2c(C1)cc1OCOc1c2.O[C@@H]1[C@@H]2[C@@H](NCc3c4OCOc4ccc23)c2c(C1)cc1OCOc1c2:\n",
      "   ->tensor([-0.0450], device='cuda:0', grad_fn=<ViewBackward0>)\n"
     ]
    }
   ],
   "source": [
    "model = lstm_mol.LSTM_MOL(5).to(device)\n",
    "\n",
    "for i in range(3):\n",
    "\tsmile = omdb_df['SMILE'][i]\n",
    "\tx = torch.tensor([float(ord(char)) for char in smile]).unsqueeze(0).to(device)\n",
    "\t# print(x)\n",
    "\tout = model(x)\n",
    "\n",
    "\tprint(f'{smile}:\\n   ->{out}')"
   ]
  }
 ],
 "metadata": {
  "kernelspec": {
   "display_name": "Python 3",
   "language": "python",
   "name": "python3"
  },
  "language_info": {
   "codemirror_mode": {
    "name": "ipython",
    "version": 3
   },
   "file_extension": ".py",
   "mimetype": "text/x-python",
   "name": "python",
   "nbconvert_exporter": "python",
   "pygments_lexer": "ipython3",
   "version": "3.11.9"
  }
 },
 "nbformat": 4,
 "nbformat_minor": 2
}
