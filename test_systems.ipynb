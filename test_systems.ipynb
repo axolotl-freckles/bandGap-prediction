{
 "cells": [
  {
   "cell_type": "markdown",
   "metadata": {},
   "source": [
    "# Prueba de sistemas\n",
    "\n",
    "[ ] - Prueba de data loader\n",
    "[ ] - Prueba de modelo"
   ]
  },
  {
   "cell_type": "code",
   "execution_count": 1,
   "metadata": {},
   "outputs": [
    {
     "name": "stdout",
     "output_type": "stream",
     "text": [
      "NVIDIA GeForce RTX 3060 Laptop GPU\n"
     ]
    }
   ],
   "source": [
    "import glob\n",
    "\n",
    "import numpy             as np\n",
    "import torch.nn          as nn\n",
    "import pandas            as pd\n",
    "import seaborn           as sns\n",
    "import matplotlib.pyplot as plt\n",
    "\n",
    "import sklearn\n",
    "import rdkit\n",
    "import torch\n",
    "\n",
    "from torch.utils.data      import DataLoader\n",
    "from rdkit.Chem.rdmolfiles import MolFromSmiles\n",
    "from rdkit.Chem            import AllChem\n",
    "\n",
    "import models.lstm_mol        as lstm_mol\n",
    "import libs.data_preprocess   as data_pross\n",
    "import libs.train             as train\n",
    "\n",
    "device = torch.device('cuda:0') if torch.cuda.is_available() else torch.device('cpu')\n",
    "print(torch.cuda.get_device_name(device))"
   ]
  },
  {
   "cell_type": "code",
   "execution_count": 2,
   "metadata": {},
   "outputs": [
    {
     "name": "stdout",
     "output_type": "stream",
     "text": [
      "<class 'pandas.core.frame.DataFrame'>\n",
      "RangeIndex: 11368 entries, 0 to 11367\n",
      "Data columns (total 3 columns):\n",
      " #   Column  Non-Null Count  Dtype  \n",
      "---  ------  --------------  -----  \n",
      " 0   CODID   11368 non-null  int64  \n",
      " 1   SMILE   11368 non-null  object \n",
      " 2   bgs     11368 non-null  float64\n",
      "dtypes: float64(1), int64(1), object(1)\n",
      "memory usage: 266.6+ KB\n",
      "None\n"
     ]
    }
   ],
   "source": [
    "data_dir = 'datasets/full'\n",
    "omdb_df = pd.read_csv(f'{data_dir}/omdb_smile_data_set.csv')\n",
    "print(omdb_df.info())"
   ]
  },
  {
   "cell_type": "code",
   "execution_count": 3,
   "metadata": {},
   "outputs": [
    {
     "name": "stdout",
     "output_type": "stream",
     "text": [
      "[Mo]1234([P]5(OC)N(C)CCN5C)(P5N(C)CCN5C)([cH]5[cH]1[cH]2[cH]3[cH]45)C#[O]:\n",
      "   ->tensor([[0.0598]], device='cuda:0', grad_fn=<AddmmBackward0>)\n",
      "Clc1c(Cl)ccc(c1)[C@H](Cl)[C@H](Cl)[C@H](O)C(=O)OC.Clc1c(Cl)ccc(c1)[C@@H](Cl)[C@@H](Cl)[C@@H](O)C(=O)OC:\n",
      "   ->tensor([[0.0598]], device='cuda:0', grad_fn=<AddmmBackward0>)\n",
      "O[C@H]1[C@H]2[C@H](NCc3c4OCOc4ccc23)c2c(C1)cc1OCOc1c2.O[C@@H]1[C@@H]2[C@@H](NCc3c4OCOc4ccc23)c2c(C1)cc1OCOc1c2:\n",
      "   ->tensor([[0.0598]], device='cuda:0', grad_fn=<AddmmBackward0>)\n"
     ]
    }
   ],
   "source": [
    "model = lstm_mol.BG_LSTM(5).to(device)\n",
    "\n",
    "for i in range(3):\n",
    "\tsmile = omdb_df['SMILE'][i]\n",
    "\tchar_smile = [float(ord(char)) for char in smile]\n",
    "\tx = torch.tensor([char_smile]).to(device)\n",
    "\t# print(x, end='\\n\\n')\n",
    "\tout = model(x)\n",
    "\n",
    "\tprint(f'{smile}:\\n   ->{out}')"
   ]
  },
  {
   "cell_type": "code",
   "execution_count": 4,
   "metadata": {},
   "outputs": [
    {
     "name": "stdout",
     "output_type": "stream",
     "text": [
      "[tensor([ 91.,  77., 111.,  93.,  49.,  50.,  51.,  52.,  40.,  91.,  80.,  93.,\n",
      "         53.,  40.,  79.,  67.,  41.,  78.,  40.,  67.,  41.,  67.,  67.,  78.,\n",
      "         53.,  67.,  41.,  40.,  80.,  53.,  78.,  40.,  67.,  41.,  67.,  67.,\n",
      "         78.,  53.,  67.,  41.,  40.,  91.,  99.,  72.,  93.,  53.,  91.,  99.,\n",
      "         72.,  93.,  49.,  91.,  99.,  72.,  93.,  50.,  91.,  99.,  72.,  93.,\n",
      "         51.,  91.,  99.,  72.,  93.,  52.,  53.,  41.,  67.,  35.,  91.,  79.,\n",
      "         93.]), tensor([ 67., 108.,  99.,  49.,  99.,  40.,  67., 108.,  41.,  99.,  99.,  99.,\n",
      "         40.,  99.,  49.,  41.,  91.,  67.,  64.,  72.,  93.,  40.,  67., 108.,\n",
      "         41.,  91.,  67.,  64.,  72.,  93.,  40.,  67., 108.,  41.,  91.,  67.,\n",
      "         64.,  72.,  93.,  40.,  79.,  41.,  67.,  40.,  61.,  79.,  41.,  79.,\n",
      "         67.,  46.,  67., 108.,  99.,  49.,  99.,  40.,  67., 108.,  41.,  99.,\n",
      "         99.,  99.,  40.,  99.,  49.,  41.,  91.,  67.,  64.,  64.,  72.,  93.,\n",
      "         40.,  67., 108.,  41.,  91.,  67.,  64.,  64.,  72.,  93.,  40.,  67.,\n",
      "        108.,  41.,  91.,  67.,  64.,  64.,  72.,  93.,  40.,  79.,  41.,  67.,\n",
      "         40.,  61.,  79.,  41.,  79.,  67.]), tensor([79., 91., 67., 64., 72., 93., 49., 91., 67., 64., 72., 93., 50., 91.,\n",
      "        67., 64., 72., 93., 40., 78., 67., 99., 51., 99., 52., 79., 67., 79.,\n",
      "        99., 52., 99., 99., 99., 50., 51., 41., 99., 50., 99., 40., 67., 49.,\n",
      "        41., 99., 99., 49., 79., 67., 79., 99., 49., 99., 50., 46., 79., 91.,\n",
      "        67., 64., 64., 72., 93., 49., 91., 67., 64., 64., 72., 93., 50., 91.,\n",
      "        67., 64., 64., 72., 93., 40., 78., 67., 99., 51., 99., 52., 79., 67.,\n",
      "        79., 99., 52., 99., 99., 99., 50., 51., 41., 99., 50., 99., 40., 67.,\n",
      "        49., 41., 99., 99., 49., 79., 67., 79., 99., 49., 99., 50.])]\n",
      "tensor([[2.7900],\n",
      "        [1.1200],\n",
      "        [3.3400]])\n"
     ]
    }
   ],
   "source": [
    "TEST_SIZE = 100\n",
    "X = [\n",
    "\ttorch.tensor( [float(ord(char)) for char in smile] ) \\\n",
    "\tfor smile in omdb_df['SMILE'][:TEST_SIZE]\n",
    "]\n",
    "Y = torch.Tensor(omdb_df['bgs'][:TEST_SIZE]).unsqueeze(1)\n",
    "print(X[:3])\n",
    "print(Y[:3])"
   ]
  },
  {
   "cell_type": "code",
   "execution_count": 5,
   "metadata": {},
   "outputs": [
    {
     "name": "stdout",
     "output_type": "stream",
     "text": [
      "torch.Size([158])\n",
      "torch.Size([158])\n",
      "tensor([[ 0.,  0.,  0.,  ..., 99., 99., 49.],\n",
      "        [ 0.,  0.,  0.,  ..., 99., 99., 49.],\n",
      "        [ 0.,  0.,  0.,  ..., 41., 61., 79.],\n",
      "        ...,\n",
      "        [ 0.,  0.,  0.,  ..., 41., 67., 67.],\n",
      "        [ 0.,  0.,  0.,  ..., 41., 67., 67.],\n",
      "        [ 0.,  0.,  0.,  ..., 99., 99., 49.]])\n",
      "tensor([[3.1400],\n",
      "        [3.3700],\n",
      "        [2.1100],\n",
      "        [4.2200],\n",
      "        [4.0700],\n",
      "        [2.8900],\n",
      "        [4.6500],\n",
      "        [3.1500],\n",
      "        [2.5400],\n",
      "        [3.6700]])\n"
     ]
    }
   ],
   "source": [
    "dataset = data_pross.MultiLenDataset(X, Y, False)\n",
    "\n",
    "print(dataset[0][0].shape)\n",
    "print(dataset[1][0].shape)\n",
    "\n",
    "test_train_dataloader = DataLoader(dataset, batch_size=10, shuffle=True)\n",
    "\n",
    "batch_x, batch_y = next(iter(test_train_dataloader))\n",
    "\n",
    "print(batch_x[:])\n",
    "print(batch_y[:])"
   ]
  },
  {
   "cell_type": "code",
   "execution_count": 6,
   "metadata": {},
   "outputs": [
    {
     "name": "stderr",
     "output_type": "stream",
     "text": [
      "E[1/10] | St Loss(inf): : 10it [00:02,  5.00it/s]\n",
      "E[2/10] | St Loss(1.19e+00): : 10it [00:01,  5.52it/s]\n",
      "E[3/10] | St Loss(8.12e-01): : 10it [00:02,  4.27it/s]\n",
      "E[4/10] | St Loss(1.59e+00): : 10it [00:02,  3.63it/s]\n",
      "E[5/10] | St Loss(8.18e-01): : 10it [00:01,  5.78it/s]\n",
      "E[6/10] | St Loss(7.92e-01): : 10it [00:01,  5.69it/s]\n",
      "E[7/10] | St Loss(5.41e-01): : 10it [00:01,  5.24it/s]\n",
      "E[8/10] | St Loss(3.84e-01): : 10it [00:01,  5.26it/s]\n",
      "E[9/10] | St Loss(1.33e+00): : 10it [00:01,  5.54it/s]\n",
      "E[10/10] | St Loss(1.47e+00): : 10it [00:01,  5.63it/s]\n"
     ]
    },
    {
     "name": "stdout",
     "output_type": "stream",
     "text": [
      "Final train loss: 1.437e+00\n",
      "Final best loss : 2.202e-01\n"
     ]
    }
   ],
   "source": [
    "loss_fn   = nn.MSELoss()\n",
    "optimizer = torch.optim.Adam(model.parameters(), lr=0.2)\n",
    "\n",
    "trainer = train.ModelTrainer(\n",
    "\t'sysTest', model, device, test_train_dataloader, loss_fn, optimizer,\n",
    "\tout_dir='saved_models'\n",
    ")\n",
    "\n",
    "train_loss, chpt_hist = trainer.train(n_epochs=10)"
   ]
  },
  {
   "cell_type": "code",
   "execution_count": 7,
   "metadata": {},
   "outputs": [
    {
     "name": "stdout",
     "output_type": "stream",
     "text": [
      "Loading previous checkpoint... Done!, resuming from epoch[1]\n"
     ]
    },
    {
     "name": "stderr",
     "output_type": "stream",
     "text": [
      "E[2/11] | St Loss(2.20e-01): : 0it [00:00, ?it/s]"
     ]
    },
    {
     "name": "stderr",
     "output_type": "stream",
     "text": [
      "E[2/11] | St Loss(2.20e-01): : 10it [00:01,  5.91it/s]\n",
      "E[3/11] | St Loss(5.23e-01): : 10it [00:01,  6.58it/s]\n",
      "E[4/11] | St Loss(7.89e-01): : 10it [00:01,  6.45it/s]\n",
      "E[5/11] | St Loss(8.27e-01): : 10it [00:01,  5.90it/s]\n",
      "E[6/11] | St Loss(2.54e+00): : 10it [00:01,  5.25it/s]\n",
      "E[7/11] | St Loss(8.74e-01): : 10it [00:01,  5.74it/s]\n",
      "E[8/11] | St Loss(1.39e+00): : 10it [00:01,  6.10it/s]\n",
      "E[9/11] | St Loss(1.03e+00): : 10it [00:01,  5.75it/s]\n",
      "E[10/11] | St Loss(9.91e-01): : 10it [00:01,  5.74it/s]\n",
      "E[11/11] | St Loss(1.60e+00): : 10it [00:01,  5.51it/s]\n"
     ]
    },
    {
     "name": "stdout",
     "output_type": "stream",
     "text": [
      "Final train loss: 2.008e+00\n",
      "Final best loss : 2.202e-01\n"
     ]
    }
   ],
   "source": [
    "train_loss2, chpt_hist2 = trainer.train(n_epochs=10, load_checkpoint=True)"
   ]
  },
  {
   "cell_type": "code",
   "execution_count": 8,
   "metadata": {},
   "outputs": [
    {
     "data": {
      "image/png": "[encoded data removed]",
      "text/plain": [
       "<Figure size 640x480 with 1 Axes>"
      ]
     },
     "metadata": {},
     "output_type": "display_data"
    },
    {
     "data": {
      "image/png": "[encoded data removed]",
      "text/plain": [
       "<Figure size 640x480 with 1 Axes>"
      ]
     },
     "metadata": {},
     "output_type": "display_data"
    }
   ],
   "source": [
    "for chpt_idx, chpt_val in chpt_hist:\n",
    "\tplt.scatter(chpt_idx, chpt_val, c='orange')\n",
    "plt.plot(train_loss)\n",
    "plt.show()\n",
    "\n",
    "for chpt_idx, chpt_val in chpt_hist2:\n",
    "\tplt.scatter(chpt_idx, chpt_val, c='orange')\n",
    "plt.plot(train_loss2)\n",
    "plt.show()"
   ]
  },
  {
   "cell_type": "code",
   "execution_count": 10,
   "metadata": {},
   "outputs": [
    {
     "name": "stdout",
     "output_type": "stream",
     "text": [
      "Testing LSTM\n",
      "Training \"TEST_h5_3x3_ReLU\"!\n"
     ]
    },
    {
     "name": "stderr",
     "output_type": "stream",
     "text": [
      "E[1/10] | St Loss(inf): : 10it [00:01,  5.65it/s]\n",
      "E[2/10] | St Loss(1.25e+00): : 10it [00:02,  3.60it/s]\n",
      "E[3/10] | St Loss(3.23e-01): : 10it [00:02,  4.27it/s]\n",
      "E[4/10] | St Loss(1.48e+00): : 10it [00:02,  4.94it/s]\n",
      "E[5/10] | St Loss(1.21e+00): : 10it [00:02,  4.68it/s]\n",
      "E[6/10] | St Loss(8.46e-01): : 10it [00:02,  4.77it/s]\n",
      "E[7/10] | St Loss(1.56e+00): : 10it [00:02,  4.82it/s]\n",
      "E[8/10] | St Loss(1.35e+00): : 10it [00:01,  5.62it/s]\n",
      "E[9/10] | St Loss(1.97e-01): : 10it [00:01,  6.02it/s]\n",
      "E[10/10] | St Loss(3.94e-01): : 10it [00:01,  5.87it/s]\n"
     ]
    },
    {
     "name": "stdout",
     "output_type": "stream",
     "text": [
      "Final train loss: 1.596e+00\n",
      "Final best loss : 4.942e-01\n",
      "\n",
      "Second training\n",
      "Loading previous checkpoint... Done!, resuming from epoch[6]\n"
     ]
    },
    {
     "name": "stderr",
     "output_type": "stream",
     "text": [
      "E[7/16] | St Loss(4.94e-01): : 10it [00:01,  5.47it/s]\n",
      "E[8/16] | St Loss(9.59e-01): : 10it [00:01,  5.11it/s]\n",
      "E[9/16] | St Loss(5.82e-01): : 10it [00:01,  5.26it/s]\n",
      "E[10/16] | St Loss(5.07e-01): : 10it [00:01,  5.67it/s]\n",
      "E[11/16] | St Loss(2.01e+00): : 10it [00:01,  5.51it/s]\n",
      "E[12/16] | St Loss(7.38e-01): : 10it [00:01,  5.74it/s]\n",
      "E[13/16] | St Loss(2.89e-01): : 10it [00:01,  5.58it/s]\n",
      "E[14/16] | St Loss(1.33e+00): : 10it [00:01,  5.91it/s]\n",
      "E[15/16] | St Loss(7.46e-01): : 10it [00:01,  5.86it/s]\n",
      "E[16/16] | St Loss(1.07e+00): : 10it [00:02,  4.76it/s]\n"
     ]
    },
    {
     "name": "stdout",
     "output_type": "stream",
     "text": [
      "Final train loss: 7.789e-01\n",
      "Final best loss : 2.901e-01\n",
      "\n",
      "Training \"TEST_h10_3i3i1_ReLU\"!\n"
     ]
    },
    {
     "name": "stderr",
     "output_type": "stream",
     "text": [
      "E[1/10] | St Loss(inf): : 10it [00:01,  5.46it/s]\n",
      "E[2/10] | St Loss(7.17e-01): : 10it [00:01,  5.81it/s]\n",
      "E[3/10] | St Loss(1.70e+00): : 10it [00:01,  5.84it/s]\n",
      "E[4/10] | St Loss(8.36e-01): : 10it [00:01,  6.10it/s]\n",
      "E[5/10] | St Loss(9.79e-01): : 10it [00:01,  6.00it/s]\n",
      "E[6/10] | St Loss(5.53e-01): : 10it [00:01,  5.37it/s]\n",
      "E[7/10] | St Loss(6.85e-01): : 10it [00:02,  4.59it/s]\n",
      "E[8/10] | St Loss(8.70e-01): : 10it [00:02,  4.78it/s]\n",
      "E[9/10] | St Loss(7.16e-01): : 10it [00:01,  5.55it/s]\n",
      "E[10/10] | St Loss(5.29e-01): : 10it [00:01,  5.65it/s]\n"
     ]
    },
    {
     "name": "stdout",
     "output_type": "stream",
     "text": [
      "Final train loss: 1.300e+00\n",
      "Final best loss : 3.135e-01\n",
      "\n",
      "Second training\n",
      "Loading previous checkpoint... Done!, resuming from epoch[1]\n"
     ]
    },
    {
     "name": "stderr",
     "output_type": "stream",
     "text": [
      "E[2/11] | St Loss(3.14e-01): : 10it [00:01,  5.62it/s]\n",
      "E[3/11] | St Loss(3.49e-01): : 10it [00:01,  5.70it/s]\n",
      "E[4/11] | St Loss(7.95e-01): : 10it [00:01,  5.33it/s]\n",
      "E[5/11] | St Loss(7.64e-01): : 10it [00:01,  5.49it/s]\n",
      "E[6/11] | St Loss(4.94e-01): : 10it [00:01,  5.38it/s]\n",
      "E[7/11] | St Loss(5.08e-01): : 10it [00:01,  5.34it/s]\n",
      "E[8/11] | St Loss(1.63e+00): : 10it [00:01,  5.70it/s]\n",
      "E[9/11] | St Loss(2.03e+00): : 10it [00:01,  5.76it/s]\n",
      "E[10/11] | St Loss(9.72e-01): : 10it [00:01,  6.17it/s]\n",
      "E[11/11] | St Loss(2.08e+00): : 10it [00:01,  6.10it/s]\n"
     ]
    },
    {
     "name": "stdout",
     "output_type": "stream",
     "text": [
      "Final train loss: 5.178e-01\n",
      "Final best loss : 3.135e-01\n",
      "\n",
      "Testing GRU\n",
      "Training \"TEST_h5_3x3_ReLU\"!\n"
     ]
    },
    {
     "name": "stderr",
     "output_type": "stream",
     "text": [
      "E[1/10] | St Loss(inf): : 10it [00:01,  5.99it/s]\n",
      "E[2/10] | St Loss(7.67e-01): : 10it [00:01,  5.70it/s]\n",
      "E[3/10] | St Loss(1.77e+00): : 10it [00:01,  5.89it/s]\n",
      "E[4/10] | St Loss(1.30e+00): : 10it [00:01,  5.19it/s]\n",
      "E[5/10] | St Loss(1.08e+00): : 10it [00:01,  5.12it/s]\n",
      "E[6/10] | St Loss(4.43e-01): : 10it [00:02,  4.99it/s]\n",
      "E[7/10] | St Loss(8.21e-01): : 10it [00:01,  5.19it/s]\n",
      "E[8/10] | St Loss(6.10e-01): : 10it [00:01,  5.52it/s]\n",
      "E[9/10] | St Loss(4.80e-01): : 10it [00:01,  5.20it/s]\n",
      "E[10/10] | St Loss(1.04e+00): : 10it [00:01,  5.48it/s]\n"
     ]
    },
    {
     "name": "stdout",
     "output_type": "stream",
     "text": [
      "Final train loss: 1.177e+00\n",
      "Final best loss : 4.142e-01\n",
      "\n",
      "Second training\n",
      "Loading previous checkpoint... Done!, resuming from epoch[2]\n"
     ]
    },
    {
     "name": "stderr",
     "output_type": "stream",
     "text": [
      "E[3/12] | St Loss(4.14e-01): : 10it [00:02,  4.91it/s]\n",
      "E[4/12] | St Loss(8.59e-01): : 10it [00:02,  4.32it/s]\n",
      "E[5/12] | St Loss(9.36e-01): : 10it [00:01,  5.44it/s]\n",
      "E[6/12] | St Loss(9.57e-01): : 10it [00:02,  4.67it/s]\n",
      "E[7/12] | St Loss(8.65e-01): : 10it [00:01,  5.51it/s]\n",
      "E[8/12] | St Loss(1.63e+00): : 10it [00:01,  5.42it/s]\n",
      "E[9/12] | St Loss(5.22e-01): : 10it [00:02,  4.77it/s]\n",
      "E[10/12] | St Loss(1.65e+00): : 10it [00:02,  4.36it/s]\n",
      "E[11/12] | St Loss(5.70e-01): : 10it [00:02,  4.51it/s]\n",
      "E[12/12] | St Loss(2.10e+00): : 10it [00:01,  5.16it/s]\n"
     ]
    },
    {
     "name": "stdout",
     "output_type": "stream",
     "text": [
      "Final train loss: 1.274e+00\n",
      "Final best loss : 4.142e-01\n",
      "\n",
      "Training \"TEST_h10_3i3i1_ReLU\"!\n"
     ]
    },
    {
     "name": "stderr",
     "output_type": "stream",
     "text": [
      "E[1/10] | St Loss(inf): : 10it [00:01,  5.71it/s]\n",
      "E[2/10] | St Loss(1.55e+00): : 10it [00:01,  5.50it/s]\n",
      "E[3/10] | St Loss(9.61e-01): : 10it [00:01,  5.84it/s]\n",
      "E[4/10] | St Loss(6.08e-01): : 10it [00:01,  6.13it/s]\n",
      "E[5/10] | St Loss(9.31e-01): : 10it [00:01,  6.25it/s]\n",
      "E[6/10] | St Loss(7.37e-01): : 10it [00:01,  5.47it/s]\n",
      "E[7/10] | St Loss(4.06e-01): : 10it [00:01,  5.29it/s]\n",
      "E[8/10] | St Loss(8.19e-01): : 10it [00:01,  6.01it/s]\n",
      "E[9/10] | St Loss(7.01e-01): : 10it [00:01,  5.77it/s]\n",
      "E[10/10] | St Loss(2.28e+00): : 10it [00:01,  6.04it/s]\n"
     ]
    },
    {
     "name": "stdout",
     "output_type": "stream",
     "text": [
      "Final train loss: 8.855e-01\n",
      "Final best loss : 7.015e-01\n",
      "\n",
      "Second training\n",
      "Loading previous checkpoint... Done!, resuming from epoch[2]\n"
     ]
    },
    {
     "name": "stderr",
     "output_type": "stream",
     "text": [
      "E[3/12] | St Loss(7.01e-01): : 10it [00:01,  6.20it/s]\n",
      "E[4/12] | St Loss(1.04e+00): : 10it [00:01,  5.94it/s]\n",
      "E[5/12] | St Loss(2.16e+00): : 10it [00:01,  6.66it/s]\n",
      "E[6/12] | St Loss(4.39e-01): : 10it [00:01,  5.50it/s]\n",
      "E[7/12] | St Loss(1.59e+00): : 10it [00:01,  5.19it/s]\n",
      "E[8/12] | St Loss(5.60e-01): : 10it [00:01,  5.75it/s]\n",
      "E[9/12] | St Loss(4.88e-01): : 10it [00:01,  5.86it/s]\n",
      "E[10/12] | St Loss(6.42e-01): : 10it [00:01,  5.93it/s]\n",
      "E[11/12] | St Loss(3.35e-01): : 10it [00:01,  6.14it/s]\n",
      "E[12/12] | St Loss(1.84e+00): : 10it [00:01,  5.12it/s]"
     ]
    },
    {
     "name": "stdout",
     "output_type": "stream",
     "text": [
      "Final train loss: 4.754e-01\n",
      "Final best loss : 5.620e-01\n",
      "\n"
     ]
    },
    {
     "name": "stderr",
     "output_type": "stream",
     "text": [
      "\n"
     ]
    }
   ],
   "source": [
    "from models.configs import SYS_TEST_CONFIGS\n",
    "\n",
    "\n",
    "print(f'Testing LSTM')\n",
    "for key, item in SYS_TEST_CONFIGS.items():\n",
    "\tprint(f'Training \"{key}\"!')\n",
    "\tmodel     = lstm_mol.BG_LSTM(item['h_size'], item['l_config']).to(device)\n",
    "\tloss_fn   = nn.MSELoss()\n",
    "\toptimizer = torch.optim.Adam(model.parameters(), lr=0.2)\n",
    "\n",
    "\ttrainer = train.ModelTrainer(\n",
    "\t\t'LSTM_'+key, model, device, test_train_dataloader, loss_fn, optimizer,\n",
    "\t\tout_dir='saved_models'\n",
    "\t)\n",
    "\n",
    "\ttrainer.train(n_epochs=10)\n",
    "\tprint(f'\\nSecond training')\n",
    "\ttrainer.train(n_epochs=10, load_checkpoint=True)\n",
    "\tprint()\n",
    "print(f'Testing GRU')\n",
    "for key, item in SYS_TEST_CONFIGS.items():\n",
    "\tprint(f'Training \"{key}\"!')\n",
    "\tmodel     = lstm_mol.BG_GRU(item['h_size'], item['l_config']).to(device)\n",
    "\tloss_fn   = nn.MSELoss()\n",
    "\toptimizer = torch.optim.Adam(model.parameters(), lr=0.2)\n",
    "\n",
    "\ttrainer = train.ModelTrainer(\n",
    "\t\t'GRU_'+key, model, device, test_train_dataloader, loss_fn, optimizer,\n",
    "\t\tout_dir='saved_models'\n",
    "\t)\n",
    "\n",
    "\ttrainer.train(n_epochs=10)\n",
    "\tprint(f'\\nSecond training')\n",
    "\ttrainer.train(n_epochs=10, load_checkpoint=True)\n",
    "\tprint()"
   ]
  }
 ],
 "metadata": {
  "kernelspec": {
   "display_name": "Python 3",
   "language": "python",
   "name": "python3"
  },
  "language_info": {
   "codemirror_mode": {
    "name": "ipython",
    "version": 3
   },
   "file_extension": ".py",
   "mimetype": "text/x-python",
   "name": "python",
   "nbconvert_exporter": "python",
   "pygments_lexer": "ipython3",
   "version": "3.11.9"
  }
 },
 "nbformat": 4,
 "nbformat_minor": 2
}
